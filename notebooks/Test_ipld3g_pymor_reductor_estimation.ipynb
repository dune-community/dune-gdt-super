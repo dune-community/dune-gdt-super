{
 "cells": [
  {
   "cell_type": "code",
   "execution_count": 1,
   "id": "324a55fb",
   "metadata": {},
   "outputs": [],
   "source": [
    "# Attention !\n",
    "# if visualization in dune is not working then\n",
    "# > pip uninstall k3d\n",
    "# > pip install K3D==2.6.6"
   ]
  },
  {
   "cell_type": "code",
   "execution_count": 2,
   "id": "9b2a9350",
   "metadata": {},
   "outputs": [],
   "source": [
    "# wurlitzer: display dune's output in the notebook\n",
    "# %load_ext wurlitzer\n",
    "\n",
    "%matplotlib inline\n",
    "\n",
    "import numpy as np\n",
    "np.warnings.filterwarnings('ignore') # silence numpys warnings"
   ]
  },
  {
   "cell_type": "code",
   "execution_count": 3,
   "id": "542642e0",
   "metadata": {},
   "outputs": [],
   "source": [
    "from pymor.core.logger import set_log_levels\n",
    "set_log_levels({'pymor': 'WARN'})"
   ]
  },
  {
   "cell_type": "code",
   "execution_count": 4,
   "id": "da092e7a",
   "metadata": {},
   "outputs": [],
   "source": [
    "# export the thermal-block problem as a pymor problem\n",
    "from pymor.analyticalproblems.thermalblock import thermal_block_problem\n",
    "from pymor.analyticalproblems.domaindescriptions import RectDomain\n",
    "\n",
    "d = 2\n",
    "omega = ([0, 0], [1, 1])\n",
    "blocks = (2, 2)\n",
    "# blocks = (1, 1)\n",
    "problem = thermal_block_problem(blocks)"
   ]
  },
  {
   "cell_type": "code",
   "execution_count": 5,
   "id": "70ac07c7",
   "metadata": {},
   "outputs": [],
   "source": [
    "# add parametric rhs\n",
    "\n",
    "from pymor.analyticalproblems.functions import LincombFunction, ConstantFunction\n",
    "from pymor.parameters.functionals import ProjectionParameterFunctional\n",
    "\n",
    "param_rhs = LincombFunction([ConstantFunction(0.5, 2), ConstantFunction(0.5, 2)],\n",
    "                            [ProjectionParameterFunctional('rhs', 2, 0),\n",
    "                             ProjectionParameterFunctional('rhs', 2, 1)])\n",
    "\n",
    "problem = problem.with_(rhs = param_rhs)"
   ]
  },
  {
   "cell_type": "code",
   "execution_count": 6,
   "id": "84498bdc",
   "metadata": {},
   "outputs": [],
   "source": [
    "# the standard pymor way\n",
    "from pymor.discretizers.builtin.grids.rect import RectGrid\n",
    "from pymor.discretizers.builtin.cg import discretize_stationary_cg\n",
    "from pymor.discretizers.builtin.fv import discretize_stationary_fv\n",
    "\n",
    "h = 0.01\n",
    "pymor_cg, data = discretize_stationary_cg(problem, diameter=h, grid_type=RectGrid)\n",
    "pymor_fv, data_ = discretize_stationary_fv(problem, diameter=h, grid_type=RectGrid)"
   ]
  },
  {
   "cell_type": "code",
   "execution_count": 7,
   "id": "c0568e6b",
   "metadata": {},
   "outputs": [],
   "source": [
    "mu = [1., 0.1, 1., 0.1, 1., 1.]\n",
    "# mu = [1.]"
   ]
  },
  {
   "cell_type": "code",
   "execution_count": 8,
   "id": "f97c7ac0",
   "metadata": {},
   "outputs": [
    {
     "name": "stdout",
     "output_type": "stream",
     "text": [
      "Rect-Grid on domain [0,1] x [0,1]\n",
      "x0-intervals: 142, x1-intervals: 142\n",
      "elements: 20164, edges: 40612, vertices: 20449\n"
     ]
    }
   ],
   "source": [
    "pymor_grid = data['grid']\n",
    "print(pymor_grid)"
   ]
  },
  {
   "cell_type": "code",
   "execution_count": 9,
   "id": "fc6e279a",
   "metadata": {},
   "outputs": [
    {
     "data": {
      "application/vnd.jupyter.widget-view+json": {
       "model_id": "040f3f13f72b4e03a37e69c36097b66f",
       "version_major": 2,
       "version_minor": 0
      },
      "text/plain": [
       "Output()"
      ]
     },
     "metadata": {},
     "output_type": "display_data"
    }
   ],
   "source": [
    "# solving the problem\n",
    "\n",
    "u_pymor = pymor_cg.solve(mu)\n",
    "pymor_cg.visualize(u_pymor)"
   ]
  },
  {
   "cell_type": "code",
   "execution_count": 10,
   "id": "08132f56",
   "metadata": {},
   "outputs": [
    {
     "data": {
      "application/vnd.jupyter.widget-view+json": {
       "model_id": "dfd301336aa64bb281daeaf7f3f7b65d",
       "version_major": 2,
       "version_minor": 0
      },
      "text/plain": [
       "Output()"
      ]
     },
     "metadata": {},
     "output_type": "display_data"
    }
   ],
   "source": [
    "# solving the problem with dune cg\n",
    "from pymor.discretizers.dunegdt.cg import discretize_stationary_cg as discretize_dune_cg\n",
    "\n",
    "pymor_dune_cg, _ = discretize_dune_cg(problem, diameter=h)\n",
    "\n",
    "u_dune_cg = pymor_dune_cg.solve(mu)\n",
    "_ = pymor_dune_cg.visualize(u_dune_cg)"
   ]
  },
  {
   "cell_type": "code",
   "execution_count": 11,
   "id": "056fad27",
   "metadata": {},
   "outputs": [
    {
     "data": {
      "application/vnd.jupyter.widget-view+json": {
       "model_id": "2bf4d48d23d744ce9e5b8670016f6719",
       "version_major": 2,
       "version_minor": 0
      },
      "text/plain": [
       "Output()"
      ]
     },
     "metadata": {},
     "output_type": "display_data"
    }
   ],
   "source": [
    "# solving the problem with dune ipdg\n",
    "from pymor.discretizers.dunegdt.ipdg import discretize_stationary_ipdg as discretize_dune_ipdg\n",
    "\n",
    "pymor_dune_ipdg, _ = discretize_dune_ipdg(problem, diameter=h)\n",
    "\n",
    "u_dune_ipdg = pymor_dune_ipdg.solve(mu)\n",
    "_ = pymor_dune_ipdg.visualize(u_dune_ipdg)"
   ]
  },
  {
   "cell_type": "markdown",
   "id": "cc017de1",
   "metadata": {},
   "source": [
    "# IPL Using DD Glued"
   ]
  },
  {
   "cell_type": "code",
   "execution_count": 12,
   "id": "930e502d",
   "metadata": {},
   "outputs": [],
   "source": [
    "from pymor.discretizers.dunegdt.ipld3g import discretize_stationary_ipld3g"
   ]
  },
  {
   "cell_type": "code",
   "execution_count": 13,
   "id": "67e94aa8",
   "metadata": {},
   "outputs": [],
   "source": [
    "N = 4.\n",
    "macro_diameter = np.sqrt(2)/N\n",
    "\n",
    "pymor_ipl_model, data = discretize_stationary_ipld3g(problem, macro_diameter=macro_diameter,\n",
    "                                                     num_local_refinements=2,\n",
    "                                                     penalty_parameter=16.)"
   ]
  },
  {
   "cell_type": "code",
   "execution_count": 14,
   "id": "802e20d6",
   "metadata": {},
   "outputs": [],
   "source": [
    "u_pymor_ipl_dune = pymor_ipl_model.solve(mu)"
   ]
  },
  {
   "cell_type": "code",
   "execution_count": 15,
   "id": "cabd4f8d",
   "metadata": {},
   "outputs": [
    {
     "data": {
      "text/plain": [
       "dict_keys(['macro_grid', 'dd_grid', 'macro_boundary_info', 'local_spaces', 'coupling_op', 'lhs_without_coupling', 'unassembled_m'])"
      ]
     },
     "execution_count": 15,
     "metadata": {},
     "output_type": "execute_result"
    }
   ],
   "source": [
    "macro_grid = data['macro_grid']\n",
    "dd_grid = data['dd_grid']\n",
    "local_spaces = data['local_spaces']\n",
    "\n",
    "data.keys()"
   ]
  },
  {
   "cell_type": "code",
   "execution_count": 16,
   "id": "9a6c4dc2",
   "metadata": {},
   "outputs": [
    {
     "data": {
      "application/vnd.jupyter.widget-view+json": {
       "model_id": "95d999dcbd384048aa999630324d6064",
       "version_major": 2,
       "version_minor": 0
      },
      "text/plain": [
       "ViewInteractiveWidget(height=1100, layout=Layout(height='auto', width='100%'), width=1500)"
      ]
     },
     "metadata": {},
     "output_type": "display_data"
    }
   ],
   "source": [
    "# visualization\n",
    "from dd_glued_visualizer import visualize_dd_functions\n",
    "\n",
    "visualize_dd_functions(dd_grid, local_spaces, u_pymor_ipl_dune)"
   ]
  },
  {
   "cell_type": "code",
   "execution_count": 17,
   "id": "681f36e9",
   "metadata": {},
   "outputs": [
    {
     "data": {
      "application/vnd.jupyter.widget-view+json": {
       "model_id": "eff48be0a21a40a29f12528f0f35c049",
       "version_major": 2,
       "version_minor": 0
      },
      "text/plain": [
       "Output()"
      ]
     },
     "metadata": {},
     "output_type": "display_data"
    }
   ],
   "source": [
    "from dune.xt.grid import visualize_grid\n",
    "_ = visualize_grid(macro_grid)"
   ]
  },
  {
   "cell_type": "markdown",
   "id": "2bc9e77d",
   "metadata": {},
   "source": [
    "## Enrichment locally with global solutions"
   ]
  },
  {
   "cell_type": "code",
   "execution_count": 18,
   "id": "ace2938e",
   "metadata": {},
   "outputs": [
    {
     "name": "stdout",
     "output_type": "stream",
     "text": [
      "....."
     ]
    }
   ],
   "source": [
    "us = pymor_ipl_model.solution_space.empty()\n",
    "\n",
    "for mu_ in problem.parameter_space.sample_randomly(5):\n",
    "    print('.', end='', flush=True)\n",
    "    us.append(pymor_ipl_model.solve(mu_))"
   ]
  },
  {
   "cell_type": "code",
   "execution_count": 19,
   "id": "01c7a42d",
   "metadata": {
    "scrolled": false
   },
   "outputs": [],
   "source": [
    "from pymor.reductors.coercive_ipl3dg import CoerciveIPLD3GRBReductor\n",
    "\n",
    "localized_reductor = CoerciveIPLD3GRBReductor(pymor_ipl_model, dd_grid)"
   ]
  },
  {
   "cell_type": "code",
   "execution_count": 20,
   "id": "4dc80cd5",
   "metadata": {},
   "outputs": [
    {
     "name": "stdout",
     "output_type": "stream",
     "text": [
      "[0, 0, 0, 0, 0, 0, 0, 0, 0, 0, 0, 0, 0, 0, 0, 0]\n",
      "[3, 3, 3, 3, 3, 3, 3, 3, 3, 3, 3, 3, 3, 3, 3, 3]\n",
      "[5, 5, 5, 5, 5, 5, 5, 5, 5, 5, 5, 5, 5, 5, 5, 5]\n"
     ]
    }
   ],
   "source": [
    "print(localized_reductor.basis_length())\n",
    "localized_reductor.add_global_solutions(us[:3])\n",
    "print(localized_reductor.basis_length())\n",
    "\n",
    "for i in range(0, localized_reductor.S):\n",
    "    u = us[3:].block(i)\n",
    "    localized_reductor.add_local_solutions(i, u)\n",
    "\n",
    "print(localized_reductor.basis_length())"
   ]
  },
  {
   "cell_type": "code",
   "execution_count": 21,
   "id": "8af4a516",
   "metadata": {},
   "outputs": [],
   "source": [
    "localized_rom = localized_reductor.reduce()\n",
    "\n",
    "u_rom_loc = localized_rom.solve(mu)\n",
    "\n",
    "u_rom_loc_reconstructed = localized_reductor.reconstruct(u_rom_loc)"
   ]
  },
  {
   "cell_type": "code",
   "execution_count": 22,
   "id": "6a43097b",
   "metadata": {},
   "outputs": [
    {
     "data": {
      "application/vnd.jupyter.widget-view+json": {
       "model_id": "c645b0993eec4b62a62e33c0355b0d4b",
       "version_major": 2,
       "version_minor": 0
      },
      "text/plain": [
       "ViewInteractiveWidget(height=1100, layout=Layout(height='auto', width='100%'), width=1500)"
      ]
     },
     "metadata": {},
     "output_type": "display_data"
    }
   ],
   "source": [
    "visualize_dd_functions(dd_grid, local_spaces, u_rom_loc_reconstructed)"
   ]
  },
  {
   "cell_type": "markdown",
   "id": "1bd64b06",
   "metadata": {},
   "source": [
    "## Estimation"
   ]
  },
  {
   "cell_type": "markdown",
   "id": "be56c499",
   "metadata": {},
   "source": [
    "### estimator domains"
   ]
  },
  {
   "cell_type": "code",
   "execution_count": 23,
   "id": "d1ca5abe",
   "metadata": {},
   "outputs": [
    {
     "data": {
      "text/plain": [
       "[(0, 1, 4, 5),\n",
       " (0, 1, 2, 4, 5, 6),\n",
       " (1, 2, 3, 5, 6, 7),\n",
       " (2, 3, 6, 7),\n",
       " (0, 1, 4, 5, 8, 9),\n",
       " (0, 1, 2, 4, 5, 6, 8, 9, 10),\n",
       " (1, 2, 3, 5, 6, 7, 9, 10, 11),\n",
       " (2, 3, 6, 7, 10, 11),\n",
       " (4, 5, 8, 9, 12, 13),\n",
       " (4, 5, 6, 8, 9, 10, 12, 13, 14),\n",
       " (5, 6, 7, 9, 10, 11, 13, 14, 15),\n",
       " (6, 7, 10, 11, 14, 15),\n",
       " (8, 9, 12, 13),\n",
       " (8, 9, 10, 12, 13, 14),\n",
       " (9, 10, 11, 13, 14, 15),\n",
       " (10, 11, 14, 15)]"
      ]
     },
     "execution_count": 23,
     "metadata": {},
     "output_type": "execute_result"
    }
   ],
   "source": [
    "localized_reductor.element_patches"
   ]
  },
  {
   "cell_type": "code",
   "execution_count": 24,
   "id": "2e6cd5e9",
   "metadata": {},
   "outputs": [
    {
     "data": {
      "text/plain": [
       "{0: [0, 1, 2, 4, 5, 6, 8, 9],\n",
       " 1: [0, 1, 2, 3, 4, 5, 6, 7, 9, 10],\n",
       " 2: [1, 2, 3, 5, 6, 7, 10, 11],\n",
       " 4: [0, 1, 4, 5, 6, 8, 9, 10, 12, 13],\n",
       " 5: [1, 2, 4, 5, 6, 7, 8, 9, 10, 11, 13, 14],\n",
       " 6: [2, 3, 5, 6, 7, 9, 10, 11, 14, 15],\n",
       " 8: [4, 5, 8, 9, 10, 12, 13, 14],\n",
       " 9: [5, 6, 8, 9, 10, 11, 12, 13, 14, 15],\n",
       " 10: [6, 7, 9, 10, 11, 13, 14, 15]}"
      ]
     },
     "execution_count": 24,
     "metadata": {},
     "output_type": "execute_result"
    }
   ],
   "source": [
    "localized_reductor.estimator_domains"
   ]
  }
 ],
 "metadata": {
  "kernelspec": {
   "display_name": "Python 3 (ipykernel)",
   "language": "python",
   "name": "python3"
  },
  "language_info": {
   "codemirror_mode": {
    "name": "ipython",
    "version": 3
   },
   "file_extension": ".py",
   "mimetype": "text/x-python",
   "name": "python",
   "nbconvert_exporter": "python",
   "pygments_lexer": "ipython3",
   "version": "3.7.3"
  }
 },
 "nbformat": 4,
 "nbformat_minor": 5
}
