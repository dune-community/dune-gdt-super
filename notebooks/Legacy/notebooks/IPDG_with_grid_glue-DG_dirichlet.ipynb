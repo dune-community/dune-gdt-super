{
 "cells": [
  {
   "cell_type": "code",
   "execution_count": null,
   "id": "5712c5e5",
   "metadata": {},
   "outputs": [],
   "source": [
    "# wurlitzer: display dune's output in the notebook\n",
    "# %load_ext wurlitzer\n",
    "\n",
    "%matplotlib inline\n",
    "\n",
    "import numpy as np\n",
    "np.warnings.filterwarnings('ignore') # silence numpys warnings"
   ]
  },
  {
   "cell_type": "markdown",
   "id": "54ff6717",
   "metadata": {},
   "source": [
    "# 0. Standard FEM and Standard DG"
   ]
  },
  {
   "cell_type": "markdown",
   "id": "389cc50d",
   "metadata": {},
   "source": [
    "## 0.1 using pymor"
   ]
  },
  {
   "cell_type": "code",
   "execution_count": null,
   "id": "c8becac8",
   "metadata": {},
   "outputs": [],
   "source": [
    "from pymor.core.logger import set_log_levels\n",
    "set_log_levels({'pymor': 'WARN'})"
   ]
  },
  {
   "cell_type": "code",
   "execution_count": null,
   "id": "e9540454",
   "metadata": {},
   "outputs": [],
   "source": [
    "d = 2\n",
    "omega = ([0, 0], [1, 1])\n",
    "\n",
    "# the pymor way\n",
    "from pymor.analyticalproblems.functions import ConstantFunction as pymorConstantFunction\n",
    "from pymor.analyticalproblems.functions import ExpressionFunction as pymorExpressionFunction\n",
    "from pymor.analyticalproblems.domaindescriptions import RectDomain\n",
    "\n",
    "from pymor.parameters.functionals import ProjectionParameterFunctional\n",
    "\n",
    "pymor_omega = RectDomain([omega[0], omega[1]])\n",
    "param_functional = ProjectionParameterFunctional('mu', 1, 0)\n",
    "pymor_kappa = pymorConstantFunction(1., d, name='kappa') * param_functional \n",
    "# pymor_f = pymorExpressionFunction('exp(x[0]*x[1])', d, name='f')\n",
    "pymor_f = pymorExpressionFunction('1', d, name='f')\n",
    "\n",
    "# the dune way\n",
    "from dune.xt.functions import ConstantFunction, ExpressionFunction, GridFunction as GF\n",
    "from dune.xt.grid import Dim, Cube, Simplex, make_cube_grid, make_cube_dd_grid\n",
    "\n",
    "kappa = ConstantFunction(dim_domain=Dim(d), dim_range=Dim(1), value=[1.], name='kappa')\n",
    "# f = ExpressionFunction(dim_domain=Dim(d), variable='x', expression='exp(x[0]*x[1])', order=3, name='f')\n",
    "f = ExpressionFunction(dim_domain=Dim(d), variable='x', expression='1', order=3, name='f')"
   ]
  },
  {
   "cell_type": "code",
   "execution_count": null,
   "id": "11bd40d1",
   "metadata": {},
   "outputs": [],
   "source": [
    "# the standard pymor way\n",
    "from pymor.discretizers.builtin.grids.rect import RectGrid\n",
    "from pymor.discretizers.builtin.cg import discretize_stationary_cg\n",
    "from pymor.discretizers.builtin.fv import discretize_stationary_fv\n",
    "from pymor.analyticalproblems.elliptic import StationaryProblem\n",
    "\n",
    "problem = StationaryProblem(pymor_omega, pymor_f, pymor_kappa)\n",
    "\n",
    "h = 0.2\n",
    "pymor_fem_cg, data = discretize_stationary_cg(problem, diameter=h, grid_type=RectGrid)\n",
    "pymor_fem_fv, data_ = discretize_stationary_fv(problem, diameter=h, grid_type=RectGrid)"
   ]
  },
  {
   "cell_type": "code",
   "execution_count": null,
   "id": "586cda29",
   "metadata": {},
   "outputs": [],
   "source": [
    "param = 1."
   ]
  },
  {
   "cell_type": "code",
   "execution_count": null,
   "id": "4032c499",
   "metadata": {},
   "outputs": [],
   "source": [
    "# from pymor.discretizers.builtin.cg import InterpolationOperator\n",
    "\n",
    "# pymor_grid = data['grid']\n",
    "# vis_mu = None\n",
    "# diff = InterpolationOperator(pymor_grid, problem.diffusion).as_vector(vis_mu)\n",
    "# rhs = InterpolationOperator(pymor_grid, problem.rhs).as_vector(vis_mu)\n",
    "# pymor_fem_cg.visualize((diff, rhs))"
   ]
  },
  {
   "cell_type": "code",
   "execution_count": null,
   "id": "36894b54",
   "metadata": {},
   "outputs": [],
   "source": [
    "pymor_grid = data['grid']\n",
    "print(pymor_grid)"
   ]
  },
  {
   "cell_type": "code",
   "execution_count": null,
   "id": "3152e1e7",
   "metadata": {},
   "outputs": [],
   "source": [
    "# visualizing the grid\n",
    "\n",
    "grid_enumerated = np.arange(pymor_fem_fv.solution_space.dim)\n",
    "pymor_fem_fv.visualize(pymor_fem_fv.solution_space.from_numpy(grid_enumerated))"
   ]
  },
  {
   "cell_type": "code",
   "execution_count": null,
   "id": "1149cd60",
   "metadata": {},
   "outputs": [],
   "source": [
    "# solving the problem\n",
    "\n",
    "u_pymor = pymor_fem_cg.solve(param)\n",
    "pymor_fem_cg.visualize(u_pymor)"
   ]
  },
  {
   "cell_type": "markdown",
   "id": "cebc509d",
   "metadata": {},
   "source": [
    "## 0.2 Using dune cg discretizer and get the same"
   ]
  },
  {
   "cell_type": "code",
   "execution_count": null,
   "id": "75fe464e",
   "metadata": {},
   "outputs": [],
   "source": [
    "from dune.xt.grid import Simplex, make_cube_grid, AllDirichletBoundaryInfo, visualize_grid\n",
    "\n",
    "grid = make_cube_grid(Dim(d), Cube(), lower_left=omega[0], upper_right=omega[1], num_elements=[8, 8])\n",
    "# grid.global_refine() # we need to refine once to obtain a symmetric grid\n",
    "\n",
    "print(f'grid has {grid.size(0)} elements, {grid.size(d - 1)} edges and {grid.size(d)} vertices')\n",
    "\n",
    "boundary_info = AllDirichletBoundaryInfo(grid)\n",
    "\n",
    "_ = visualize_grid(grid)"
   ]
  },
  {
   "cell_type": "code",
   "execution_count": null,
   "id": "1cdd0f08",
   "metadata": {},
   "outputs": [],
   "source": [
    "from discretize_elliptic_cg import discretize_elliptic_cg_dirichlet_zero\n",
    "from dune.gdt import DiscreteFunction, visualize_function\n",
    "\n",
    "u_h = discretize_elliptic_cg_dirichlet_zero(grid, kappa, f)\n",
    "_ = visualize_function(u_h)"
   ]
  },
  {
   "cell_type": "markdown",
   "id": "82485f08",
   "metadata": {},
   "source": [
    "## 0.2 Using DG discretizer and get the same"
   ]
  },
  {
   "cell_type": "code",
   "execution_count": null,
   "id": "8be4482a",
   "metadata": {},
   "outputs": [],
   "source": [
    "from discretize_elliptic_ipdg import discretize_elliptic_ipdg_dirichlet_zero"
   ]
  },
  {
   "cell_type": "code",
   "execution_count": null,
   "id": "34723dfc",
   "metadata": {},
   "outputs": [],
   "source": [
    "u_h = discretize_elliptic_ipdg_dirichlet_zero(grid, kappa, f,\n",
    "                                              symmetry_factor=1,\n",
    "                                              penalty_parameter=16, weight=1)\n",
    "_ = visualize_function(u_h)"
   ]
  },
  {
   "cell_type": "markdown",
   "id": "33d5e357",
   "metadata": {},
   "source": [
    "## 1. Creating a DD grid\n",
    "\n",
    "Let's set up a 2d grid first, as seen in other tutorials and examples."
   ]
  },
  {
   "cell_type": "code",
   "execution_count": null,
   "id": "e58f1e19",
   "metadata": {},
   "outputs": [],
   "source": [
    "from dune.xt.grid import Dim, Cube, Simplex, make_cube_grid, make_cube_dd_grid\n",
    "from dune.xt.grid import AllDirichletBoundaryInfo\n",
    "from dune.xt.functions import ConstantFunction, ExpressionFunction, GridFunction as GF\n",
    "\n",
    "d = 2\n",
    "omega = ([0, 0], [1, 1])\n",
    "macro_grid = make_cube_grid(Dim(d), Cube(), lower_left=omega[0],\n",
    "                            upper_right=omega[1], num_elements=[4, 4])\n",
    "# macro_grid.global_refine(1)\n",
    "\n",
    "macro_boundary_info = AllDirichletBoundaryInfo(macro_grid)\n",
    "\n",
    "print(f'grid has {macro_grid.size(0)} elements, ' \n",
    "      + f'{macro_grid.size(d - 1)} edges and {macro_grid.size(d)} vertices')"
   ]
  },
  {
   "cell_type": "markdown",
   "id": "620a521d",
   "metadata": {},
   "source": [
    "Now we can use this grid as a macro grid for a dd grid."
   ]
  },
  {
   "cell_type": "code",
   "execution_count": null,
   "id": "aa6a6e45",
   "metadata": {},
   "outputs": [],
   "source": [
    "# start with no refinement on the subdomains\n",
    "dd_grid = make_cube_dd_grid(macro_grid, Cube(), 2)\n",
    "\n",
    "# TODO: adjust bindings to also allow for simplices !\n",
    "#      Note: For this, only the correct gridprovider as return value is missing ! \n",
    "\n",
    "from dune.xt.grid import CouplingIntersection\n",
    "\n",
    "coupling_intersection_type = CouplingIntersection(dd_grid)"
   ]
  },
  {
   "cell_type": "code",
   "execution_count": null,
   "id": "90d8cbb9",
   "metadata": {},
   "outputs": [],
   "source": [
    "print(dd_grid)\n",
    "print(macro_grid)"
   ]
  },
  {
   "cell_type": "code",
   "execution_count": null,
   "id": "50ae1ecc",
   "metadata": {},
   "outputs": [],
   "source": [
    "print(dd_grid.boundary_subdomains)"
   ]
  },
  {
   "cell_type": "code",
   "execution_count": null,
   "id": "d7aaf440",
   "metadata": {},
   "outputs": [],
   "source": [
    "from dune.xt.grid import visualize_grid\n",
    "_ = visualize_grid(macro_grid)"
   ]
  },
  {
   "cell_type": "markdown",
   "id": "7bf6dcb2",
   "metadata": {},
   "source": [
    "# 2. Creating micro CG spaces"
   ]
  },
  {
   "cell_type": "markdown",
   "id": "9108d372",
   "metadata": {},
   "source": [
    "We can define cg spaces for every local grid"
   ]
  },
  {
   "cell_type": "code",
   "execution_count": null,
   "id": "46245752",
   "metadata": {},
   "outputs": [],
   "source": [
    "from dune.gdt import ContinuousLagrangeSpace\n",
    "\n",
    "S = dd_grid.num_subdomains\n",
    "local_spaces = [ContinuousLagrangeSpace(dd_grid.local_grid(ss), order=1) for ss in range(S)]\n",
    "local_grids = [dd_grid.local_grid(ss) for ss in range(S)]\n",
    "neighbors = [dd_grid.neighbors(ss) for ss in range(S)]"
   ]
  },
  {
   "cell_type": "markdown",
   "id": "02548e45",
   "metadata": {},
   "source": [
    "# 3. Creating a BlockOperator for pymor"
   ]
  },
  {
   "cell_type": "code",
   "execution_count": null,
   "id": "8dbb5ad4",
   "metadata": {},
   "outputs": [],
   "source": [
    "from dune.xt.grid import Dim, Walker\n",
    "from dune.xt.functions import ConstantFunction, ExpressionFunction\n",
    "from dune.xt.functions import GridFunction\n",
    "\n",
    "from dune.gdt import DirichletConstraints"
   ]
  },
  {
   "cell_type": "code",
   "execution_count": null,
   "id": "c0e25a0c",
   "metadata": {},
   "outputs": [],
   "source": [
    "ops = np.empty((S, S), dtype=object)\n",
    "rhs = np.empty(S, dtype=object)"
   ]
  },
  {
   "cell_type": "code",
   "execution_count": null,
   "id": "22a48034",
   "metadata": {},
   "outputs": [],
   "source": [
    "localized_dirichlet_constraints = []\n",
    "\n",
    "for ss in range(S):\n",
    "    boundary_info = dd_grid.macro_based_boundary_info(ss, macro_boundary_info)\n",
    "    \n",
    "    local_grid = local_grids[ss]\n",
    "    local_space = local_spaces[ss]\n",
    "    \n",
    "    dirichlet_constraints = DirichletConstraints(boundary_info, local_space)\n",
    "    \n",
    "    walker = Walker(local_grid)\n",
    "    walker.append(dirichlet_constraints)\n",
    "    walker.walk()\n",
    "    \n",
    "    localized_dirichlet_constraints.append(dirichlet_constraints)\n",
    "#     print(dirichlet_constraints.dirichlet_DoFs)"
   ]
  },
  {
   "cell_type": "code",
   "execution_count": null,
   "id": "5febce6e",
   "metadata": {},
   "outputs": [],
   "source": [
    "from dune.gdt import (BilinearForm,\n",
    "                      MatrixOperator,\n",
    "                      make_element_sparsity_pattern,\n",
    "                      make_coupling_sparsity_pattern,\n",
    "                      make_element_and_intersection_sparsity_pattern,\n",
    "                      LocalLaplaceIntegrand,\n",
    "                      LocalElementIntegralBilinearForm,\n",
    "                      LocalLaplaceIPDGInnerCouplingIntegrand,\n",
    "                      LocalIPDGInnerPenaltyIntegrand,\n",
    "                      LocalCouplingIntersectionIntegralBilinearForm,\n",
    "                      LocalIntersectionIntegralBilinearForm,\n",
    "                      VectorFunctional,\n",
    "                      LocalElementIntegralFunctional,\n",
    "                      LocalElementProductIntegrand)\n",
    "\n",
    "from pymor.bindings.dunegdt import DuneXTMatrixOperator\n",
    "from pymor.operators.constructions import VectorArrayOperator\n",
    "\n",
    "def assemble_subdomain_contribution(grid, space, d, dirichlet_constraints):\n",
    "    a_h = MatrixOperator(grid, source_space=space, range_space=space,\n",
    "                         sparsity_pattern=make_element_and_intersection_sparsity_pattern(space))\n",
    "    a_form = BilinearForm(grid)\n",
    "    a_form += LocalElementIntegralBilinearForm(\n",
    "        LocalLaplaceIntegrand(GridFunction(grid, kappa, dim_range=(Dim(d), Dim(d)))))\n",
    "    \n",
    "    if not space.continuous:\n",
    "        assert 0, \"add DG contributions\"\n",
    "            \n",
    "    ## WRITE BINDINGS FOR \"WITH\" METHOD\n",
    "    # a_h = a_form.with(source_space=space, range_space=space)\n",
    "    \n",
    "    a_h.append(a_form)\n",
    "    \n",
    "    source = GF(grid, f)\n",
    "    rhs = VectorFunctional(grid, source_space=space)\n",
    "    rhs += LocalElementIntegralFunctional(LocalElementProductIntegrand(GF(grid, 1)).with_ansatz(source))\n",
    "\n",
    "    #walker on local grid\n",
    "    walker = Walker(grid)\n",
    "    walker.append(a_h)\n",
    "    walker.append(rhs)\n",
    "    walker.walk()\n",
    "    \n",
    "#     print(a_h.matrix.__repr__())\n",
    "#     dirichlet_constraints.apply(a_h.matrix)\n",
    "#     print(a_h.matrix.__repr__())\n",
    "#     dirichlet_constraints.apply(rhs.vector)\n",
    "#     print(rhs.vector.__repr__())\n",
    "    \n",
    "#     a = b\n",
    "    op = DuneXTMatrixOperator(a_h.matrix)\n",
    "#     rhs = VectorArrayOperator(op.range.make_array([rhs.vector,]))\n",
    "    rhs = op.range.make_array([rhs.vector,])\n",
    "    return op, rhs\n",
    "    \n",
    "\n",
    "def assemble_coupling_contribution(ss, nn, ss_space, nn_space):\n",
    "    coupling_grid = dd_grid.coupling_grid(ss, nn)\n",
    "    \n",
    "    coupling_sparsity_pattern = make_coupling_sparsity_pattern(ss_space, nn_space, coupling_grid)\n",
    "        \n",
    "    coupling_form = BilinearForm(coupling_grid)\n",
    "    \n",
    "    # TODO: FIND THE CORRECT NUMBERS HERE ! \n",
    "    symmetry_factor = 1.\n",
    "    weight = kappa\n",
    "    penalty_parameter= 16\n",
    "    \n",
    "    grid = local_grids[ss]\n",
    "    diffusion = GridFunction(grid, kappa, dim_range=(Dim(d), Dim(d)))\n",
    "    weight = GridFunction(grid, weight, dim_range=(Dim(d), Dim(d)))\n",
    "    \n",
    "    coupling_integrand = LocalLaplaceIPDGInnerCouplingIntegrand(\n",
    "        symmetry_factor, diffusion, weight, intersection_type=coupling_intersection_type)\n",
    "    penalty_integrand = LocalIPDGInnerPenaltyIntegrand(\n",
    "        penalty_parameter, weight, intersection_type=coupling_intersection_type)\n",
    "    \n",
    "    coupling_form += LocalCouplingIntersectionIntegralBilinearForm(coupling_integrand)\n",
    "    coupling_form += LocalCouplingIntersectionIntegralBilinearForm(penalty_integrand)\n",
    "    \n",
    "    coupling_op_ss_ss = MatrixOperator(coupling_grid, ss_space, ss_space, make_element_and_intersection_sparsity_pattern(ss_space))\n",
    "    coupling_op_ss_nn = MatrixOperator(coupling_grid, ss_space, nn_space, coupling_sparsity_pattern)\n",
    "    coupling_op_nn_ss = MatrixOperator(coupling_grid, nn_space, ss_space, coupling_sparsity_pattern)\n",
    "    coupling_op_nn_nn = MatrixOperator(coupling_grid, nn_space, nn_space, make_element_and_intersection_sparsity_pattern(nn_space))\n",
    "    \n",
    "    coupling_op_ss_ss.append(coupling_form, {}, (False, True , False, False, False, False))\n",
    "    coupling_op_ss_nn.append(coupling_form, {}, (False, False, True , False, False, False))\n",
    "    coupling_op_nn_ss.append(coupling_form, {}, (False, False, False, True , False, False))\n",
    "    coupling_op_nn_nn.append(coupling_form, {}, (False, False, False, False, True , False))\n",
    "\n",
    "    #walker on local grid\n",
    "    walker = Walker(coupling_grid)\n",
    "    walker.append(coupling_op_ss_ss)\n",
    "    walker.append(coupling_op_ss_nn)\n",
    "    walker.append(coupling_op_nn_ss)\n",
    "    walker.append(coupling_op_nn_nn)\n",
    "    walker.walk()\n",
    "    \n",
    "    coupling_op_ss_ss = DuneXTMatrixOperator(coupling_op_ss_ss.matrix)\n",
    "    coupling_op_ss_nn = DuneXTMatrixOperator(coupling_op_ss_nn.matrix)\n",
    "    coupling_op_nn_ss = DuneXTMatrixOperator(coupling_op_nn_ss.matrix)\n",
    "    coupling_op_nn_nn = DuneXTMatrixOperator(coupling_op_nn_nn.matrix)\n",
    "    \n",
    "    return coupling_op_ss_ss, coupling_op_ss_nn, coupling_op_nn_ss, coupling_op_nn_nn"
   ]
  },
  {
   "cell_type": "code",
   "execution_count": null,
   "id": "5a71cae5",
   "metadata": {},
   "outputs": [],
   "source": [
    "from dune.gdt import LocalIPDGBoundaryPenaltyIntegrand, LocalLaplaceIPDGDirichletCouplingIntegrand\n",
    "from dune.xt.grid import ApplyOnCustomBoundaryIntersections, DirichletBoundary\n",
    "\n",
    "def assemble_boundary_contributions(ss, grid, space, d):\n",
    "    boundary_info = dd_grid.macro_based_boundary_info(ss, macro_boundary_info)\n",
    "    \n",
    "    # TODO: FIND THE CORRECT NUMBERS HERE ! \n",
    "    symmetry_factor = 1.\n",
    "    weight = 1.\n",
    "    penalty_parameter= 16\n",
    "    diffusion = GridFunction(grid, kappa, dim_range=(Dim(d), Dim(d)))\n",
    "    weight = GridFunction(grid, weight, dim_range=(Dim(d), Dim(d)))\n",
    "    \n",
    "    a_h = MatrixOperator(grid, source_space=space, range_space=space,\n",
    "                         sparsity_pattern=make_element_and_intersection_sparsity_pattern(space))\n",
    "    a_form = BilinearForm(grid)\n",
    "    a_form += (LocalIntersectionIntegralBilinearForm(\n",
    "        LocalIPDGBoundaryPenaltyIntegrand(penalty_parameter, weight) +\n",
    "        LocalLaplaceIPDGDirichletCouplingIntegrand(symmetry_factor, diffusion))\n",
    "            , ApplyOnCustomBoundaryIntersections(grid, boundary_info, DirichletBoundary()))\n",
    "    a_h.append(a_form)\n",
    "    \n",
    "    walker = Walker(grid)\n",
    "    walker.append(a_h)\n",
    "    walker.walk()\n",
    "    \n",
    "    boundaryOp = DuneXTMatrixOperator(a_h.matrix)\n",
    "#     print(a_h.matrix)\n",
    "    return boundaryOp"
   ]
  },
  {
   "cell_type": "code",
   "execution_count": null,
   "id": "e4fb37e1",
   "metadata": {},
   "outputs": [],
   "source": [
    "for ss in range(S):\n",
    "    local_space = local_spaces[ss]\n",
    "    local_grid = local_grids[ss]\n",
    "    boundary_op = assemble_boundary_contributions(ss, local_grid, local_space, d)"
   ]
  },
  {
   "cell_type": "code",
   "execution_count": null,
   "id": "5bb13c89",
   "metadata": {},
   "outputs": [],
   "source": [
    "boundary_op"
   ]
  },
  {
   "cell_type": "code",
   "execution_count": null,
   "id": "a9becaf6",
   "metadata": {},
   "outputs": [],
   "source": [
    "from dune.gdt import make_element_sparsity_pattern\n",
    "\n",
    "for ss in range(S):\n",
    "    # print(f\"macro element: {ss}...\")\n",
    "    local_space = local_spaces[ss]\n",
    "    local_grid = local_grids[ss]\n",
    "    dirichlet_constraints = localized_dirichlet_constraints[ss]\n",
    "    local_op, local_rhs =  assemble_subdomain_contribution(local_grid, local_space, d, dirichlet_constraints)\n",
    "    ops[ss, ss] = local_op\n",
    "    rhs[ss] = local_rhs\n",
    "    \n",
    "    boundary_op = assemble_boundary_contributions(ss, local_grid, local_space, d)\n",
    "    ops[ss, ss] += boundary_op\n",
    "    \n",
    "for ss in range(S):\n",
    "    # print(f\"macro element: {ss}...\")\n",
    "    # print(f\"index: {ss}, with neigbors {dd_grid.neighbors(ss)}\")\n",
    "    local_space = local_spaces[ss]\n",
    "    for nn in dd_grid.neighbors(ss):\n",
    "        # Due to the nature of the coupling intersections, we don't have the hanging node problem. We can thus\n",
    "        # treat each intersection only once.\n",
    "        if ss < nn:\n",
    "            neighboring_space = local_spaces[nn]\n",
    "            coupling_ops = assemble_coupling_contribution(ss, nn, local_space, neighboring_space)\n",
    "            \n",
    "            # additional terms to diagonal\n",
    "            ops[ss][ss] += coupling_ops[0]\n",
    "            ops[nn][nn] += coupling_ops[3]\n",
    "\n",
    "            # coupling terms\n",
    "            if ops[ss][nn] is None:\n",
    "                ops[ss][nn] = coupling_ops[1]\n",
    "            else:\n",
    "                ops[ss][nn] += coupling_ops[1]\n",
    "            if ops[nn][ss] is None:\n",
    "                ops[nn][ss] = coupling_ops[2]\n",
    "            else:\n",
    "                ops[nn][ss] += coupling_ops[2]\n",
    "        "
   ]
  },
  {
   "cell_type": "code",
   "execution_count": null,
   "id": "ce8c2edb",
   "metadata": {},
   "outputs": [],
   "source": [
    "# coupling_ops"
   ]
  },
  {
   "cell_type": "code",
   "execution_count": null,
   "id": "52f05a42",
   "metadata": {},
   "outputs": [],
   "source": [
    "# coupling_ops[0].assemble()"
   ]
  },
  {
   "cell_type": "code",
   "execution_count": null,
   "id": "0f149794",
   "metadata": {},
   "outputs": [],
   "source": [
    "# rhs"
   ]
  },
  {
   "cell_type": "code",
   "execution_count": null,
   "id": "a4ba1227",
   "metadata": {},
   "outputs": [],
   "source": [
    "# binary_ops = [[True if op is not None else False for op in ops_] for ops_ in ops] \n",
    "# for ops_ in binary_ops:\n",
    "#     print(ops_)"
   ]
  },
  {
   "cell_type": "code",
   "execution_count": null,
   "id": "816056d1",
   "metadata": {},
   "outputs": [],
   "source": [
    "# for op in ops:\n",
    "#     for op_ in op:\n",
    "#         print(op_)"
   ]
  },
  {
   "cell_type": "code",
   "execution_count": null,
   "id": "f34a0b9f",
   "metadata": {},
   "outputs": [],
   "source": [
    "from pymor.operators.block import BlockOperator\n",
    "from pymor.operators.constructions import VectorOperator\n",
    "\n",
    "block_op = param_functional * BlockOperator(ops)\n",
    "block_rhs = VectorOperator(block_op.range.make_array(rhs))"
   ]
  },
  {
   "cell_type": "code",
   "execution_count": null,
   "id": "88222fd7",
   "metadata": {},
   "outputs": [],
   "source": [
    "# block_rhs"
   ]
  },
  {
   "cell_type": "code",
   "execution_count": null,
   "id": "ebcbfef1",
   "metadata": {},
   "outputs": [],
   "source": [
    "# block_op.assemble()"
   ]
  },
  {
   "cell_type": "code",
   "execution_count": null,
   "id": "45ba2f3b",
   "metadata": {},
   "outputs": [],
   "source": [
    "from pymor.models.basic import StationaryModel\n",
    "\n",
    "ipdg = StationaryModel(block_op, block_rhs)\n",
    "\n",
    "u_ipdg = ipdg.solve(param)"
   ]
  },
  {
   "cell_type": "code",
   "execution_count": null,
   "id": "fcfa2362",
   "metadata": {},
   "outputs": [],
   "source": [
    "# visualization\n",
    "\n",
    "discrete_functions = []\n",
    "\n",
    "for ss in range(S):\n",
    "    u_list_vector_array = u_ipdg.block(ss)\n",
    "    u_ss_istl = u_list_vector_array._list[0].real_part.impl\n",
    "    u_ss = DiscreteFunction(local_spaces[ss], u_ss_istl, name='u_ipdg')\n",
    "    discrete_functions.append(u_ss)\n",
    "#     _ = visualize_function(u_ss)"
   ]
  },
  {
   "cell_type": "code",
   "execution_count": null,
   "id": "8eca93b0",
   "metadata": {},
   "outputs": [],
   "source": [
    "from dune.gdt import visualize_discrete_functions_on_dd_grid\n",
    "\n",
    "_ = visualize_discrete_functions_on_dd_grid(discrete_functions, dd_grid)"
   ]
  }
 ],
 "metadata": {
  "kernelspec": {
   "display_name": "Python 3 (ipykernel)",
   "language": "python",
   "name": "python3"
  },
  "language_info": {
   "codemirror_mode": {
    "name": "ipython",
    "version": 3
   },
   "file_extension": ".py",
   "mimetype": "text/x-python",
   "name": "python",
   "nbconvert_exporter": "python",
   "pygments_lexer": "ipython3",
   "version": "3.7.3"
  }
 },
 "nbformat": 4,
 "nbformat_minor": 5
}
